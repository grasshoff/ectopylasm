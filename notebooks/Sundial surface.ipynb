{
 "cells": [
  {
   "cell_type": "markdown",
   "metadata": {},
   "source": [
    "In this notebook we will do a quick analysis of the surface of a sundial. We will:\n",
    "\n",
    "- Download Sundial pointcloud data\n",
    "- Load it\n",
    "- Visualize the points\n",
    "- Filter out a plane section\n",
    "- Visualize filtered points\n",
    "- Fit a Plane shape to that filtered out section\n",
    "- Plot the shape together with the filtered points\n",
    "- Do the same for a cone."
   ]
  },
  {
   "cell_type": "code",
   "execution_count": null,
   "metadata": {},
   "outputs": [],
   "source": [
    "import numpy as np\n",
    "import ipyvolume as ipv\n",
    "import ectopylasm as ep"
   ]
  },
  {
   "cell_type": "markdown",
   "metadata": {},
   "source": [
    "# Download data\n",
    "\n",
    "The Topoi repository has a wealth of sundial scans freely available for download (under CC BY-NC-SA 3.0 DE license). We will download the following example, either with curl (only on Unix systems) or with Python urllib:"
   ]
  },
  {
   "cell_type": "code",
   "execution_count": null,
   "metadata": {},
   "outputs": [],
   "source": [
    "# !curl -fLo ObjID126.ply http://repository.edition-topoi.org/BSDP/ReposBSDP/BSDP0030/ObjID126.ply"
   ]
  },
  {
   "cell_type": "code",
   "execution_count": null,
   "metadata": {},
   "outputs": [],
   "source": [
    "# import urllib.request\n",
    "# import shutil\n",
    "\n",
    "# url = \"http://repository.edition-topoi.org/BSDP/ReposBSDP/BSDP0030/ObjID126.ply\"\n",
    "# filename = \"ObjID126.ply\"\n",
    "# with urllib.request.urlopen(url) as response, open(filename, 'wb') as out_file:\n",
    "#     shutil.copyfileobj(response, out_file)"
   ]
  },
  {
   "cell_type": "markdown",
   "metadata": {},
   "source": [
    "# Load data\n",
    "\n",
    "The first time we load data from PLY files, `ectopylasm` will store an optimized version of the points (vertices) from the PLY file in a new HDF5 file with a `.cache.ecto` extension. The next time the PLY file is loaded, this will increase loading time significantly. This is all done under the hood, the user doesn't have to deal with this."
   ]
  },
  {
   "cell_type": "code",
   "execution_count": null,
   "metadata": {},
   "outputs": [],
   "source": [
    "points = ep.pandas_vertices_from_plyfile('ObjID126.ply')"
   ]
  },
  {
   "cell_type": "markdown",
   "metadata": {},
   "source": [
    "# Visualize the points\n",
    "\n",
    "Let's see what we've got!\n",
    "\n",
    "In this notebook we use `ipyvolume` for plotting. All the `ectopylasm` shape plotting functions work with `ipyvolume` as well. For plotting pointclouds, one could also use `pptk`, which has a higher framerate, but is not integrated into the notebook, and doesn't support plotting shape surfaces."
   ]
  },
  {
   "cell_type": "code",
   "execution_count": null,
   "metadata": {},
   "outputs": [],
   "source": [
    "ipv.clear()\n",
    "ipv.scatter(points.x, points.y, points.z, marker='circle_2d', size=0.2)\n",
    "ipv.show()"
   ]
  },
  {
   "cell_type": "markdown",
   "metadata": {},
   "source": [
    "# Filter out a plane section\n",
    "\n",
    "The bottom front part of the sundial seems like it's planar. Let's try to isolate that part and fit it to an actual plane."
   ]
  },
  {
   "cell_type": "code",
   "execution_count": null,
   "metadata": {},
   "outputs": [],
   "source": [
    "# estimate the parameters of the plane that encompasses our region\n",
    "plane_point = (0, -70, -200)\n",
    "plane_normal = (0, -1, 1)"
   ]
  },
  {
   "cell_type": "code",
   "execution_count": null,
   "metadata": {},
   "outputs": [],
   "source": [
    "plane = ep.Plane.from_point(*plane_normal, plane_point)"
   ]
  },
  {
   "cell_type": "code",
   "execution_count": null,
   "metadata": {},
   "outputs": [],
   "source": [
    "ipv.clear()\n",
    "ipv.scatter(points.x, points.y, points.z, marker='circle_2d', size=0.2)\n",
    "ep.plot_plane(plane)\n",
    "ipv.show()"
   ]
  },
  {
   "cell_type": "markdown",
   "metadata": {},
   "source": [
    "That's not really it yet, let's adjust a bit."
   ]
  },
  {
   "cell_type": "code",
   "execution_count": null,
   "metadata": {},
   "outputs": [],
   "source": [
    "# tweak the parameters of the plane until the result looks good enough for filtering\n",
    "plane_point = (0, -70, -200)\n",
    "plane_normal = (0, -1, 0.7)\n",
    "\n",
    "plane = ep.Plane.from_point(*plane_normal, plane_point)\n",
    "\n",
    "ipv.clear()\n",
    "ipv.scatter(points.x, points.y, points.z, marker='circle_2d', size=0.2)\n",
    "ep.plot_plane(plane)\n",
    "ipv.show()"
   ]
  },
  {
   "cell_type": "markdown",
   "metadata": {},
   "source": [
    "Looks good enough for now. Let's turn that into a filter then, shall we? We only need to estimate still the thickness. Something like 20-50 seems reasonable."
   ]
  },
  {
   "cell_type": "code",
   "execution_count": null,
   "metadata": {},
   "outputs": [],
   "source": [
    "filtered_points = np.array(ep.filter_points_plane(points.values.T, plane, 40)).T"
   ]
  },
  {
   "cell_type": "code",
   "execution_count": null,
   "metadata": {},
   "outputs": [],
   "source": [
    "len(points), len(filtered_points)"
   ]
  },
  {
   "cell_type": "code",
   "execution_count": null,
   "metadata": {},
   "outputs": [],
   "source": [
    "ipv.clear()\n",
    "ipv.scatter(points.x, points.y, points.z, marker='circle_2d', size=0.2)\n",
    "ipv.scatter(*filtered_points, marker='circle_2d', size=0.4, color='blue')\n",
    "ipv.show()"
   ]
  },
  {
   "cell_type": "markdown",
   "metadata": {},
   "source": [
    "Ok, we took in a little bit too much. Let's manually filter out the junk we don't want to fit to with some simple conditionals."
   ]
  },
  {
   "cell_type": "code",
   "execution_count": null,
   "metadata": {},
   "outputs": [],
   "source": [
    "condition = np.logical_and(filtered_points[0] < 50, filtered_points[0] > -70)\n",
    "condition = np.logical_and(condition, filtered_points[2] < -140)\n",
    "condition = np.logical_and(condition, filtered_points[2] > -220)\n",
    "filtered_points_2 = filtered_points.T[condition].T"
   ]
  },
  {
   "cell_type": "code",
   "execution_count": null,
   "metadata": {},
   "outputs": [],
   "source": [
    "ipv.clear()\n",
    "ipv.scatter(points.x, points.y, points.z, marker='circle_2d', size=0.2)\n",
    "ipv.scatter(*filtered_points_2, marker='circle_2d', size=0.4, color='blue')\n",
    "ipv.show()"
   ]
  },
  {
   "cell_type": "markdown",
   "metadata": {},
   "source": [
    "That's a nice planar sample."
   ]
  },
  {
   "cell_type": "markdown",
   "metadata": {},
   "source": [
    "# Fit a plane\n",
    "\n",
    "Let's fit a plane to this section to find its parameters."
   ]
  },
  {
   "cell_type": "code",
   "execution_count": null,
   "metadata": {},
   "outputs": [],
   "source": [
    "fit_result = ep.fit_plane(filtered_points_2)"
   ]
  },
  {
   "cell_type": "markdown",
   "metadata": {},
   "source": [
    "# Visualize results\n",
    "\n",
    "Finally, let's see what we've got!\n",
    "\n",
    "First we print the parameters, then we inspect the fit compared to the filtered points visually."
   ]
  },
  {
   "cell_type": "code",
   "execution_count": null,
   "metadata": {},
   "outputs": [],
   "source": [
    "print(fit_result)"
   ]
  },
  {
   "cell_type": "code",
   "execution_count": null,
   "metadata": {},
   "outputs": [],
   "source": [
    "ipv.clear()\n",
    "ipv.scatter(*filtered_points_2, marker='circle_2d', size=0.4, color='blue')\n",
    "ep.plot_plane_fit(fit_result)\n",
    "ipv.show()"
   ]
  },
  {
   "cell_type": "markdown",
   "metadata": {},
   "source": [
    "As we can see, the fit is really good. We can use the plane parameters to do further analysis."
   ]
  },
  {
   "cell_type": "markdown",
   "metadata": {},
   "source": [
    "# Same for cone\n",
    "\n",
    "The top part of the structure actually looks like some kind of conal section. Could we fit a cone to this part? Let's try!\n",
    "\n",
    "For the filtering, we're just going to start with a rough coordinate slice, because guessing the cone parameters will be hard. The apex will be somewhere outside of the space."
   ]
  },
  {
   "cell_type": "code",
   "execution_count": null,
   "metadata": {},
   "outputs": [],
   "source": [
    "condition = np.logical_and(points.y < -10, points.z > -100)\n",
    "condition = np.logical_and(condition, points.z < -20)\n",
    "condition = np.logical_and(condition, points.x < 65)\n",
    "condition = np.logical_and(condition, points.x > -85)\n",
    "cone_filtered_points = points[condition]"
   ]
  },
  {
   "cell_type": "code",
   "execution_count": null,
   "metadata": {},
   "outputs": [],
   "source": [
    "ipv.clear()\n",
    "ipv.scatter(*cone_filtered_points.values.T, marker='circle_2d', size=0.2)\n",
    "ipv.show()"
   ]
  },
  {
   "cell_type": "markdown",
   "metadata": {},
   "source": [
    "Now, fitting this naively will take a very long time. It makes sense to provide some initial guesses to help the fitter along."
   ]
  },
  {
   "cell_type": "code",
   "execution_count": null,
   "metadata": {},
   "outputs": [],
   "source": [
    "# don't just run naively!\n",
    "# fit_cone_result = ep.fit_cone(cone_filtered_points)"
   ]
  },
  {
   "cell_type": "code",
   "execution_count": null,
   "metadata": {},
   "outputs": [],
   "source": [
    "# run with a good initial guess:\n",
    "guess_cone = ep.Cone(400, 150, rot_x=np.pi, base_pos=ep.Point(0, -150, 0))"
   ]
  },
  {
   "cell_type": "code",
   "execution_count": null,
   "metadata": {},
   "outputs": [],
   "source": [
    "ipv.clear()\n",
    "ipv.scatter(*cone_filtered_points.values.T, marker='circle_2d', size=0.2)\n",
    "ep.plot_cone(guess_cone)\n",
    "ipv.show()"
   ]
  },
  {
   "cell_type": "markdown",
   "metadata": {},
   "source": [
    "Also, for performance, let's use just a random subset of all points.\n",
    "\n",
    "Note: `ep.random_sample` is a bit weird, it will be rewritten in a more user friendly way."
   ]
  },
  {
   "cell_type": "code",
   "execution_count": null,
   "metadata": {},
   "outputs": [],
   "source": [
    "cfp_dict = dict(x=cone_filtered_points.values[:,0], y=cone_filtered_points.values[:,1],\n",
    "                z=cone_filtered_points.values[:,2])"
   ]
  },
  {
   "cell_type": "code",
   "execution_count": null,
   "metadata": {},
   "outputs": [],
   "source": [
    "cone_points_sample = ep.random_sample(cfp_dict, len(cone_filtered_points),\n",
    "                                      100 / len(cone_filtered_points))"
   ]
  },
  {
   "cell_type": "code",
   "execution_count": null,
   "metadata": {},
   "outputs": [],
   "source": [
    "cone_points_sample_array = np.array((cone_points_sample['x'], cone_points_sample['y'], cone_points_sample['z']))"
   ]
  },
  {
   "cell_type": "code",
   "execution_count": null,
   "metadata": {},
   "outputs": [],
   "source": [
    "cone_points_sample_array.shape"
   ]
  },
  {
   "cell_type": "code",
   "execution_count": null,
   "metadata": {},
   "outputs": [],
   "source": [
    "fit_cone_result = ep.fit_cone(cone_points_sample_array, initial_guess_cone=guess_cone)"
   ]
  },
  {
   "cell_type": "code",
   "execution_count": null,
   "metadata": {},
   "outputs": [],
   "source": [
    "ipv.clear()\n",
    "ipv.scatter(*cone_filtered_points.values.T, marker='circle_2d', size=0.2)\n",
    "ipv.scatter(*cone_points_sample_array, marker='circle_2d', size=0.4, color='blue')\n",
    "ep.plot_cone_fit(fit_cone_result)\n",
    "ipv.show()"
   ]
  },
  {
   "cell_type": "markdown",
   "metadata": {},
   "source": [
    "Not sure if this makes sense, but it doesn't seem completely crazy."
   ]
  },
  {
   "cell_type": "code",
   "execution_count": null,
   "metadata": {},
   "outputs": [],
   "source": []
  }
 ],
 "metadata": {
  "language_info": {
   "name": "python",
   "pygments_lexer": "ipython3"
  }
 },
 "nbformat": 4,
 "nbformat_minor": 2
}
