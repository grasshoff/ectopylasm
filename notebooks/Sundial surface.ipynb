{
 "cells": [
  {
   "cell_type": "markdown",
   "metadata": {},
   "source": [
    "In this notebook we will do a quick analysis of the surface of a sundial. We will:\n",
    "\n",
    "- Download Sundial pointcloud data\n",
    "- Load it\n",
    "- Visualize the points\n",
    "\n",
    "Then we will look at how to fit a plane to part of the points:\n",
    "\n",
    "- Filter out a plane section using a \"thick plane\"\n",
    "- Visualize filtered points\n",
    "- Fit a Plane shape to that filtered out section\n",
    "- Plot the shape together with the filtered points\n",
    "\n",
    "Finally, we'll have a look at a similar process of fitting a cone:\n",
    "\n",
    "- Filter out a cone section using simple linear filtering\n",
    "- Fit a Cone shape to the filtered points\n",
    "- Plot the fitted shape\n",
    "- Show the residuals of the fit\n",
    "- Use a \"thick cone\" to refine the filtering of points\n",
    "- Do another fitting iteration"
   ]
  },
  {
   "cell_type": "code",
   "execution_count": null,
   "metadata": {},
   "outputs": [],
   "source": [
    "import numpy as np\n",
    "import ipyvolume as ipv\n",
    "import ectopylasm as ep"
   ]
  },
  {
   "cell_type": "markdown",
   "metadata": {},
   "source": [
    "# Download data\n",
    "\n",
    "The Topoi repository has a wealth of sundial scans freely available for download (under CC BY-NC-SA 3.0 DE license). We will download the following example, either with curl (only on Unix systems) or with Python urllib:"
   ]
  },
  {
   "cell_type": "code",
   "execution_count": null,
   "metadata": {},
   "outputs": [],
   "source": [
    "# !curl -fLo ObjID126.ply http://repository.edition-topoi.org/BSDP/ReposBSDP/BSDP0030/ObjID126.ply"
   ]
  },
  {
   "cell_type": "code",
   "execution_count": null,
   "metadata": {},
   "outputs": [],
   "source": [
    "# import urllib.request\n",
    "# import shutil\n",
    "\n",
    "# url = \"http://repository.edition-topoi.org/BSDP/ReposBSDP/BSDP0030/ObjID126.ply\"\n",
    "# filename = \"ObjID126.ply\"\n",
    "# with urllib.request.urlopen(url) as response, open(filename, 'wb') as out_file:\n",
    "#     shutil.copyfileobj(response, out_file)"
   ]
  },
  {
   "cell_type": "markdown",
   "metadata": {},
   "source": [
    "# Load data\n",
    "\n",
    "The first time we load data from PLY files, `ectopylasm` will store an optimized version of the points (vertices) from the PLY file in a new HDF5 file with a `.cache.ecto` extension. The next time the PLY file is loaded, this will increase loading time significantly. This is all done under the hood, the user doesn't have to deal with this."
   ]
  },
  {
   "cell_type": "code",
   "execution_count": null,
   "metadata": {},
   "outputs": [],
   "source": [
    "points = ep.pandas_vertices_from_plyfile('ObjID126.ply')"
   ]
  },
  {
   "cell_type": "markdown",
   "metadata": {},
   "source": [
    "# Visualize the points\n",
    "\n",
    "Let's see what we've got!\n",
    "\n",
    "In this notebook we use `ipyvolume` for plotting. All the `ectopylasm` shape plotting functions work with `ipyvolume` as well. For plotting pointclouds, one could also use `pptk`, which has a higher framerate, but is not integrated into the notebook, and doesn't support plotting shape surfaces."
   ]
  },
  {
   "cell_type": "code",
   "execution_count": null,
   "metadata": {},
   "outputs": [],
   "source": [
    "ep.pptk_plot_df(points)"
   ]
  },
  {
   "cell_type": "code",
   "execution_count": null,
   "metadata": {},
   "outputs": [],
   "source": [
    "ipv.clear()\n",
    "ep.ipv_plot_df(points)\n",
    "ipv.show()"
   ]
  },
  {
   "cell_type": "markdown",
   "metadata": {},
   "source": [
    "# Filter out a plane section\n",
    "\n",
    "The bottom front part of the sundial seems like it's planar. Let's try to isolate that part and fit it to an actual plane."
   ]
  },
  {
   "cell_type": "code",
   "execution_count": null,
   "metadata": {},
   "outputs": [],
   "source": [
    "# estimate the parameters of the plane that encompasses our region\n",
    "plane_point = (0, -70, -200)\n",
    "plane_normal = (0, -1, 1)"
   ]
  },
  {
   "cell_type": "code",
   "execution_count": null,
   "metadata": {},
   "outputs": [],
   "source": [
    "plane = ep.Plane.from_point(*plane_normal, plane_point)"
   ]
  },
  {
   "cell_type": "code",
   "execution_count": null,
   "metadata": {},
   "outputs": [],
   "source": [
    "ipv.clear()\n",
    "ep.ipv_plot_df(points)\n",
    "ep.plot_plane(plane)\n",
    "ipv.show()"
   ]
  },
  {
   "cell_type": "markdown",
   "metadata": {},
   "source": [
    "That's not really it yet, let's adjust a bit."
   ]
  },
  {
   "cell_type": "code",
   "execution_count": null,
   "metadata": {},
   "outputs": [],
   "source": [
    "# tweak the parameters of the plane until the result looks good enough for filtering\n",
    "plane_point = (0, -70, -200)\n",
    "plane_normal = (0, -1, 0.7)\n",
    "\n",
    "plane = ep.Plane.from_point(*plane_normal, plane_point)\n",
    "\n",
    "ipv.clear()\n",
    "ep.ipv_plot_df(points)\n",
    "ep.plot_plane(plane)\n",
    "ipv.show()"
   ]
  },
  {
   "cell_type": "markdown",
   "metadata": {},
   "source": [
    "Looks good enough for now. Let's turn that into a filter then, shall we? We only need to estimate still the thickness. Something like 20-50 seems reasonable."
   ]
  },
  {
   "cell_type": "code",
   "execution_count": null,
   "metadata": {},
   "outputs": [],
   "source": [
    "filtered_points = np.array(ep.filter_points_plane(points.values.T, plane, 40)).T"
   ]
  },
  {
   "cell_type": "code",
   "execution_count": null,
   "metadata": {},
   "outputs": [],
   "source": [
    "len(points), filtered_points.shape"
   ]
  },
  {
   "cell_type": "code",
   "execution_count": null,
   "metadata": {},
   "outputs": [],
   "source": [
    "ipv.clear()\n",
    "ep.ipv_plot_df(points)\n",
    "ipv.scatter(*filtered_points, marker='circle_2d', size=0.4, color='blue')\n",
    "ipv.show()"
   ]
  },
  {
   "cell_type": "markdown",
   "metadata": {},
   "source": [
    "Ok, we took in a little bit too much. Let's manually filter out the junk we don't want to fit to with some simple conditionals."
   ]
  },
  {
   "cell_type": "code",
   "execution_count": null,
   "metadata": {},
   "outputs": [],
   "source": [
    "condition = np.logical_and(filtered_points[0] < 50, filtered_points[0] > -70)\n",
    "condition = np.logical_and(condition, filtered_points[2] < -140)\n",
    "condition = np.logical_and(condition, filtered_points[2] > -220)\n",
    "filtered_points_2 = filtered_points.T[condition].T"
   ]
  },
  {
   "cell_type": "code",
   "execution_count": null,
   "metadata": {},
   "outputs": [],
   "source": [
    "ipv.clear()\n",
    "ep.ipv_plot_df(points)\n",
    "ipv.scatter(*filtered_points_2, marker='circle_2d', size=0.4, color='blue')\n",
    "ipv.show()"
   ]
  },
  {
   "cell_type": "markdown",
   "metadata": {},
   "source": [
    "That's a nice planar sample."
   ]
  },
  {
   "cell_type": "markdown",
   "metadata": {},
   "source": [
    "# Fit a plane\n",
    "\n",
    "Let's fit a plane to this section to find its parameters."
   ]
  },
  {
   "cell_type": "code",
   "execution_count": null,
   "metadata": {},
   "outputs": [],
   "source": [
    "fit_result = ep.fit_plane(filtered_points_2)"
   ]
  },
  {
   "cell_type": "markdown",
   "metadata": {},
   "source": [
    "# Visualize results\n",
    "\n",
    "Finally, let's see what we've got!\n",
    "\n",
    "First we print the parameters, then we inspect the fit compared to the filtered points visually."
   ]
  },
  {
   "cell_type": "code",
   "execution_count": null,
   "metadata": {},
   "outputs": [],
   "source": [
    "print(fit_result)"
   ]
  },
  {
   "cell_type": "code",
   "execution_count": null,
   "metadata": {},
   "outputs": [],
   "source": [
    "ipv.clear()\n",
    "ipv.scatter(*filtered_points_2, marker='circle_2d', size=0.4, color='blue')\n",
    "ep.plot_plane_fit(fit_result)\n",
    "ipv.show()"
   ]
  },
  {
   "cell_type": "markdown",
   "metadata": {},
   "source": [
    "As we can see, the fit is really good. We can use the plane parameters to do further analysis."
   ]
  },
  {
   "cell_type": "markdown",
   "metadata": {},
   "source": [
    "# Same for cone\n",
    "\n",
    "The top part of the structure actually looks like some kind of conal section. Could we fit a cone to this part? Let's try!\n",
    "\n",
    "For the filtering, we're just going to start with a rough coordinate slice, because guessing the cone parameters will be hard. The apex will be somewhere outside of the space."
   ]
  },
  {
   "cell_type": "code",
   "execution_count": null,
   "metadata": {},
   "outputs": [],
   "source": [
    "condition = np.logical_and(points.y < -10, points.z > -100)\n",
    "condition = np.logical_and(condition, points.z < -20)\n",
    "condition = np.logical_and(condition, points.x < 65)\n",
    "condition = np.logical_and(condition, points.x > -85)\n",
    "cone_filtered_points = points[condition]"
   ]
  },
  {
   "cell_type": "code",
   "execution_count": null,
   "metadata": {},
   "outputs": [],
   "source": [
    "ipv.clear()\n",
    "ep.ipv_plot_df(cone_filtered_points)\n",
    "ipv.show()"
   ]
  },
  {
   "cell_type": "markdown",
   "metadata": {},
   "source": [
    "Now, fitting this naively will take a very long time. It makes sense to provide some initial guesses to help the fitter along."
   ]
  },
  {
   "cell_type": "code",
   "execution_count": null,
   "metadata": {},
   "outputs": [],
   "source": [
    "# don't just run naively!\n",
    "# fit_cone_result = ep.fit_cone(cone_filtered_points)"
   ]
  },
  {
   "cell_type": "code",
   "execution_count": null,
   "metadata": {},
   "outputs": [],
   "source": [
    "# run with a good initial guess:\n",
    "guess_cone = ep.Cone(300, 300, rot_x=-np.pi/3, base_pos=ep.Point(0, -260, -120))"
   ]
  },
  {
   "cell_type": "code",
   "execution_count": null,
   "metadata": {},
   "outputs": [],
   "source": [
    "ipv.clear()\n",
    "ep.ipv_plot_df(cone_filtered_points)\n",
    "ep.plot_cone(guess_cone)\n",
    "ipv.show()"
   ]
  },
  {
   "cell_type": "markdown",
   "metadata": {},
   "source": [
    "Also, for performance, let's use just a random subset of all points."
   ]
  },
  {
   "cell_type": "code",
   "execution_count": null,
   "metadata": {},
   "outputs": [],
   "source": [
    "cone_points_sample = cone_filtered_points.sample(n=100)"
   ]
  },
  {
   "cell_type": "code",
   "execution_count": null,
   "metadata": {},
   "outputs": [],
   "source": [
    "cone_points_sample.values.shape"
   ]
  },
  {
   "cell_type": "code",
   "execution_count": null,
   "metadata": {},
   "outputs": [],
   "source": [
    "%time cone_fit = ep.Cone.from_points(cone_points_sample.values.T, initial_guess_cone=guess_cone)"
   ]
  },
  {
   "cell_type": "code",
   "execution_count": null,
   "metadata": {},
   "outputs": [],
   "source": [
    "ipv.clear()\n",
    "ep.ipv_plot_df(cone_filtered_points)\n",
    "ep.ipv_plot_df(cone_points_sample, size=0.4, color='blue')\n",
    "ep.plot_cone(cone_fit)\n",
    "ipv.show()"
   ]
  },
  {
   "cell_type": "markdown",
   "metadata": {},
   "source": [
    "Amazing, an absolutely perfect fit... These ancient Greeks were proper craftsmen.\n",
    "\n",
    "Just for fun, let's see how that looks together with the full pointcloud."
   ]
  },
  {
   "cell_type": "code",
   "execution_count": null,
   "metadata": {},
   "outputs": [],
   "source": [
    "ipv.clear()\n",
    "ep.ipv_plot_df(points)\n",
    "ep.plot_cone(cone_fit)\n",
    "ipv.show()"
   ]
  },
  {
   "cell_type": "markdown",
   "metadata": {},
   "source": [
    "# Cone fit residuals\n",
    "\n",
    "We can visualize the quality of the fit by calculating the distance of the points to the fitted cone and coloring our points to represent these distances. For instance, in the following way:"
   ]
  },
  {
   "cell_type": "code",
   "execution_count": null,
   "metadata": {},
   "outputs": [],
   "source": [
    "distances = np.array([ep.point_distance_to_cone(point, cone_fit)[0] for point in cone_filtered_points.values])"
   ]
  },
  {
   "cell_type": "code",
   "execution_count": null,
   "metadata": {},
   "outputs": [],
   "source": [
    "# map the distances to a 0, 1 scale\n",
    "norm_distances = (distances - distances.min()) / (distances.max() - distances.min())"
   ]
  },
  {
   "cell_type": "code",
   "execution_count": null,
   "metadata": {},
   "outputs": [],
   "source": [
    "import colorsys"
   ]
  },
  {
   "cell_type": "code",
   "execution_count": null,
   "metadata": {},
   "outputs": [],
   "source": [
    "colors = [colorsys.hsv_to_rgb(distance, 1, 1) for distance in norm_distances]"
   ]
  },
  {
   "cell_type": "code",
   "execution_count": null,
   "metadata": {},
   "outputs": [],
   "source": [
    "ipv.clear()\n",
    "ep.ipv_plot_df(cone_filtered_points, size=0.4, color=colors)\n",
    "ipv.show()"
   ]
  },
  {
   "cell_type": "markdown",
   "metadata": {},
   "source": [
    "We can see that the fit is not perfect, which may either indicate the quality of the fit or could be due to actual defects in the sundial."
   ]
  },
  {
   "cell_type": "markdown",
   "metadata": {},
   "source": [
    "# Use thick cone filter\n",
    "\n",
    "Using the distances we just calculated, we can get an idea of the thickness of a thick cone we should aim for to get a good sample of all the points in the cone. This should give us an even better sample of all the points that make up the conal structure in the sundial."
   ]
  },
  {
   "cell_type": "code",
   "execution_count": null,
   "metadata": {},
   "outputs": [],
   "source": [
    "distances.min(), distances.max()"
   ]
  },
  {
   "cell_type": "markdown",
   "metadata": {},
   "source": [
    "Given those numbers, we could aim for a thickness of 10, so that we will get 5 units depth on both sides. Let's try:"
   ]
  },
  {
   "cell_type": "code",
   "execution_count": null,
   "metadata": {},
   "outputs": [],
   "source": [
    "%time all_distances = np.array([ep.point_distance_to_cone(point, cone_fit)[0] for point in points.values])"
   ]
  },
  {
   "cell_type": "code",
   "execution_count": null,
   "metadata": {},
   "outputs": [],
   "source": [
    "# cone_filtered_points_2 = np.array([point for point in points.values\n",
    "#                                    if ep.point_distance_to_cone(point, cone_fit)[0] < 5])\n",
    "cone_filtered_points_2 = points[all_distances < 5]"
   ]
  },
  {
   "cell_type": "code",
   "execution_count": null,
   "metadata": {},
   "outputs": [],
   "source": [
    "len(cone_filtered_points_2)"
   ]
  },
  {
   "cell_type": "code",
   "execution_count": null,
   "metadata": {},
   "outputs": [],
   "source": [
    "ipv.clear()\n",
    "ep.ipv_plot_df(cone_filtered_points_2)\n",
    "ep.plot_cone(cone_fit)\n",
    "ipv.show()"
   ]
  },
  {
   "cell_type": "markdown",
   "metadata": {},
   "source": [
    "There's two problems left here:\n",
    "\n",
    "1. There is some crap included at the bottom, due to the fact that our cone is too elongated. We should adjust the cone's height to get a better sample.\n",
    "2. The thickness of the filter causes us to include the parts around the edges of the cone. How to filter these out?\n",
    "\n",
    "Let's start by defining a better cone. Mainly we want to shorten the height, by about a factor 0.4, I'd guess. We can then recalculate the radius from the current fit cone using its opening angle and by displacing it along the axis direction so that the apex stays in place:"
   ]
  },
  {
   "cell_type": "code",
   "execution_count": null,
   "metadata": {},
   "outputs": [],
   "source": [
    "height_factor = 0.42\n",
    "\n",
    "opening_angle = cone_fit.opening_angle()\n",
    "desired_height = height_factor * cone_fit.height\n",
    "desired_radius = desired_height * np.tan(opening_angle)\n",
    "\n",
    "displacement = cone_fit.axis() * (1 - height_factor) * cone_fit.height\n",
    "base_pos = ep.Point(cone_fit.base_pos.x + displacement[0],\n",
    "                    cone_fit.base_pos.y + displacement[1],\n",
    "                    cone_fit.base_pos.z + displacement[2])\n",
    "\n",
    "filtering_cone = ep.Cone(desired_height, desired_radius,\n",
    "                         rot_x=cone_fit.rot_x, rot_y=cone_fit.rot_y,\n",
    "                         base_pos=base_pos)"
   ]
  },
  {
   "cell_type": "code",
   "execution_count": null,
   "metadata": {},
   "outputs": [],
   "source": [
    "ipv.clear()\n",
    "ep.ipv_plot_df(points)\n",
    "ep.plot_cone(filtering_cone)\n",
    "ipv.show()"
   ]
  },
  {
   "cell_type": "markdown",
   "metadata": {},
   "source": [
    "Neat. Now to use that for filtering."
   ]
  },
  {
   "cell_type": "code",
   "execution_count": null,
   "metadata": {},
   "outputs": [],
   "source": [
    "%time all_distances_2 = np.array([ep.point_distance_to_cone(point, filtering_cone)[0] for point in points.values])"
   ]
  },
  {
   "cell_type": "code",
   "execution_count": null,
   "metadata": {},
   "outputs": [],
   "source": [
    "cone_filtered_points_3 = points[np.array(all_distances_2) < 5]"
   ]
  },
  {
   "cell_type": "code",
   "execution_count": null,
   "metadata": {},
   "outputs": [],
   "source": [
    "cone_filtered_points_3.shape"
   ]
  },
  {
   "cell_type": "code",
   "execution_count": null,
   "metadata": {},
   "outputs": [],
   "source": [
    "ipv.clear()\n",
    "ep.ipv_plot_df(cone_filtered_points_3)\n",
    "ep.plot_cone(filtering_cone)\n",
    "ipv.show()"
   ]
  },
  {
   "cell_type": "markdown",
   "metadata": {},
   "source": [
    "Now we're getting somewhere. We still have the edge problems, but maybe it's not such a big problem, since most of the points are on the cone."
   ]
  },
  {
   "cell_type": "markdown",
   "metadata": {},
   "source": [
    "# Fitting: second try\n",
    "\n",
    "Ok, second iteration. This time, we use our previously fitted cone as the initial guess. For performance reasons, we take only a sample of 200 points out of our filtered sample of ~80000."
   ]
  },
  {
   "cell_type": "code",
   "execution_count": null,
   "metadata": {},
   "outputs": [],
   "source": [
    "cone_points_sample_2 = cone_filtered_points_3.sample(n=200)"
   ]
  },
  {
   "cell_type": "code",
   "execution_count": null,
   "metadata": {},
   "outputs": [],
   "source": [
    "ipv.clear()\n",
    "ep.ipv_plot_df(cone_points_sample_2, size=1)\n",
    "ep.plot_cone(filtering_cone)\n",
    "ipv.show()"
   ]
  },
  {
   "cell_type": "code",
   "execution_count": null,
   "metadata": {},
   "outputs": [],
   "source": [
    "%time cone_fit_2 = ep.Cone.from_points(cone_points_sample_2.values.T, initial_guess_cone=cone_fit)"
   ]
  },
  {
   "cell_type": "code",
   "execution_count": null,
   "metadata": {},
   "outputs": [],
   "source": [
    "ipv.clear()\n",
    "ep.ipv_plot_df(cone_filtered_points_3)\n",
    "ep.plot_cone(cone_fit_2)\n",
    "ipv.show()"
   ]
  },
  {
   "cell_type": "markdown",
   "metadata": {},
   "source": [
    "Interesting, it does not seem as fixated on the outstanding edges as I had feared. What about the residuals?"
   ]
  },
  {
   "cell_type": "code",
   "execution_count": null,
   "metadata": {},
   "outputs": [],
   "source": [
    "distances_2 = np.array([ep.point_distance_to_cone(point, cone_fit)[0] for point in cone_filtered_points_3.values])\n",
    "# map the distances to a 0, 1 scale\n",
    "norm_distances_2 = (distances_2 - distances_2.min()) / (distances_2.max() - distances_2.min())\n",
    "colors_2 = [colorsys.hsv_to_rgb(distance, 1, 1) for distance in norm_distances_2]"
   ]
  },
  {
   "cell_type": "code",
   "execution_count": null,
   "metadata": {},
   "outputs": [],
   "source": [
    "ipv.clear()\n",
    "ep.ipv_plot_df(cone_filtered_points_3, size=0.4, color=colors_2)\n",
    "ipv.show()"
   ]
  },
  {
   "cell_type": "markdown",
   "metadata": {},
   "source": [
    "Hm, weird, why is that thingy still in there? Wait, did I use absolute distances? Probably not ;)\n",
    "\n",
    "# Again!"
   ]
  },
  {
   "cell_type": "code",
   "execution_count": null,
   "metadata": {},
   "outputs": [],
   "source": [
    "cone_filtered_points_4 = points[np.abs(all_distances_2) < 5]"
   ]
  },
  {
   "cell_type": "code",
   "execution_count": null,
   "metadata": {},
   "outputs": [],
   "source": [
    "cone_filtered_points_4.shape"
   ]
  },
  {
   "cell_type": "code",
   "execution_count": null,
   "metadata": {},
   "outputs": [],
   "source": [
    "# let's skip \"_3\" now to make life a bit less confusing...\n",
    "cone_points_sample_4 = cone_filtered_points_4.sample(n=200)"
   ]
  },
  {
   "cell_type": "code",
   "execution_count": null,
   "metadata": {},
   "outputs": [],
   "source": [
    "ipv.clear()\n",
    "ep.ipv_plot_df(cone_points_sample_4, size=1)\n",
    "ep.plot_cone(filtering_cone)\n",
    "ipv.show()"
   ]
  },
  {
   "cell_type": "code",
   "execution_count": null,
   "metadata": {},
   "outputs": [],
   "source": [
    "%time cone_fit_4 = ep.Cone.from_points(cone_points_sample_4.values.T, initial_guess_cone=cone_fit)"
   ]
  },
  {
   "cell_type": "markdown",
   "metadata": {},
   "source": [
    "Already, a wall clock time 3 times shorter tells us the fit was probably easier."
   ]
  },
  {
   "cell_type": "code",
   "execution_count": null,
   "metadata": {},
   "outputs": [],
   "source": [
    "ipv.clear()\n",
    "ep.ipv_plot_df(cone_filtered_points_4)\n",
    "ep.plot_cone(cone_fit_4)\n",
    "ipv.show()"
   ]
  },
  {
   "cell_type": "code",
   "execution_count": null,
   "metadata": {},
   "outputs": [],
   "source": [
    "distances_4 = np.array([ep.point_distance_to_cone(point, cone_fit)[0] for point in cone_filtered_points_4.values])\n",
    "# map the distances to a 0, 1 scale\n",
    "norm_distances_4 = (distances_4 - distances_4.min()) / (distances_4.max() - distances_4.min())\n",
    "colors_4 = [colorsys.hsv_to_rgb(distance, 1, 1) for distance in norm_distances_4]"
   ]
  },
  {
   "cell_type": "code",
   "execution_count": null,
   "metadata": {},
   "outputs": [],
   "source": [
    "ipv.clear()\n",
    "ep.ipv_plot_df(cone_filtered_points_4, size=0.4, color=colors_4)\n",
    "ipv.show()"
   ]
  },
  {
   "cell_type": "markdown",
   "metadata": {},
   "source": [
    "Really interesting how the lines are so well visible."
   ]
  },
  {
   "cell_type": "code",
   "execution_count": null,
   "metadata": {},
   "outputs": [],
   "source": []
  }
 ],
 "metadata": {
  "language_info": {
   "name": "python",
   "pygments_lexer": "ipython3"
  }
 },
 "nbformat": 4,
 "nbformat_minor": 2
}
